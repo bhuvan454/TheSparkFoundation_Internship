{
 "cells": [
  {
   "cell_type": "markdown",
   "metadata": {},
   "source": [
    "# Task_1: Student hardwork and performance in exams"
   ]
  },
  {
   "cell_type": "markdown",
   "metadata": {},
   "source": [
    "In this task, problem statement is to determine the students performance in exams based on hours of study they put in before examinations. As this is a single feature problem, problem is approched with a linear modeling to find to linear dependency of feature over the scores of students. \n"
   ]
  },
  {
   "cell_type": "markdown",
   "metadata": {},
   "source": [
    "## 1. Importing libreries"
   ]
  },
  {
   "cell_type": "code",
   "execution_count": 1,
   "metadata": {},
   "outputs": [],
   "source": [
    "# importing required libreries \n",
    "\n",
    "import warnings \n",
    "warnings.filterwarnings('ignore')\n",
    "\n",
    "#data manipulation libreries\n",
    "import pandas as pd\n",
    "import numpy as np\n",
    " \n",
    "#data visualization libreries\n",
    "import matplotlib.pyplot as plt\n",
    "import seaborn as sns\n",
    "\n",
    "#required dependencies\n",
    "from sklearn.model_selection import train_test_split\n",
    "from sklearn.metrics import accuracy_score, recall_score\n",
    "\n",
    "#linear model\n",
    "from sklearn.linear_model import LinearRegression"
   ]
  },
  {
   "cell_type": "markdown",
   "metadata": {},
   "source": [
    "## 2. Data visulaization"
   ]
  },
  {
   "cell_type": "code",
   "execution_count": 2,
   "metadata": {},
   "outputs": [
    {
     "name": "stdout",
     "output_type": "stream",
     "text": [
      "Downloading dataset.....\n",
      "Downloading completed\n"
     ]
    }
   ],
   "source": [
    "# data downloading\n",
    "url = 'http://bit.ly/w-data'\n",
    "print('Downloading dataset.....')\n",
    "\n",
    "df = pd.read_csv(url)\n",
    "\n",
    "print('Downloading completed')"
   ]
  },
  {
   "cell_type": "code",
   "execution_count": 3,
   "metadata": {},
   "outputs": [
    {
     "name": "stdout",
     "output_type": "stream",
     "text": [
      "<class 'pandas.core.frame.DataFrame'>\n",
      "RangeIndex: 25 entries, 0 to 24\n",
      "Data columns (total 2 columns):\n",
      " #   Column  Non-Null Count  Dtype  \n",
      "---  ------  --------------  -----  \n",
      " 0   Hours   25 non-null     float64\n",
      " 1   Scores  25 non-null     int64  \n",
      "dtypes: float64(1), int64(1)\n",
      "memory usage: 528.0 bytes\n",
      "None\n"
     ]
    }
   ],
   "source": [
    "# daraset information and feature data types\n",
    "info = df.info()\n",
    "print(info)"
   ]
  },
  {
   "cell_type": "code",
   "execution_count": 4,
   "metadata": {},
   "outputs": [
    {
     "name": "stdout",
     "output_type": "stream",
     "text": [
      "Total null value percentages in the dataset\n",
      "Hours: 0.0%\n",
      "Scores: 0.0%\n",
      "total columns in dataset 2\n",
      "                                                                                                    \n",
      "**************************************************\n",
      "                                                                                                    \n",
      "Description to the data\n",
      "        count    mean        std   min   25%   50%   75%   max\n",
      "Hours    25.0   5.012   2.525094   1.1   2.7   4.8   7.4   9.2\n",
      "Scores   25.0  51.480  25.286887  17.0  30.0  47.0  75.0  95.0\n"
     ]
    }
   ],
   "source": [
    "# looking for total null values and statistics in dataset\n",
    "\n",
    "print('Total null value percentages in the dataset')\n",
    "for col in df.columns:\n",
    "    print(col+':', str(round(100 * df[col].isnull().sum() / len(df[col]),2)) + '%')\n",
    "print('total columns in dataset {}'.format(len(df.columns)))\n",
    "\n",
    "print(' '*100)\n",
    "print('*'*50 )\n",
    "print(' '*100)\n",
    "print('Description to the data')\n",
    "print(df.describe().T)\n"
   ]
  },
  {
   "cell_type": "code",
   "execution_count": 5,
   "metadata": {},
   "outputs": [
    {
     "data": {
      "image/png": "[encoded data removed]",
      "text/plain": [
       "<Figure size 432x288 with 1 Axes>"
      ]
     },
     "metadata": {
      "needs_background": "light"
     },
     "output_type": "display_data"
    }
   ],
   "source": [
    "# data visulaiazation\n",
    "\n",
    "ax = sns.scatterplot(x =  'Hours', y = 'Scores', data = df)\n",
    "ax = ax.set_title('Scatter plot of Scores, Hours')"
   ]
  },
  {
   "cell_type": "markdown",
   "metadata": {},
   "source": [
    "This scatter plot shows that studets perfomance is almost propotional to the hours of student put in  prepration for exam."
   ]
  },
  {
   "cell_type": "markdown",
   "metadata": {},
   "source": [
    "# Train and test data spliting"
   ]
  },
  {
   "cell_type": "code",
   "execution_count": 17,
   "metadata": {},
   "outputs": [
    {
     "name": "stdout",
     "output_type": "stream",
     "text": [
      "Shape of X_train:(20, 1)\n",
      "Shape of y_train:(20, 1)\n",
      "Shape of X_test:(5, 1)\n",
      "Shape of y_test:(5, 1)\n"
     ]
    }
   ],
   "source": [
    "# data and labels\n",
    "data = pd.DataFrame(df['Hours'])\n",
    "labels = pd.DataFrame(df['Scores'])\n",
    "\n",
    "#train and test data spliting\n",
    "X_train,X_test, y_train,y_test = train_test_split(data, labels, test_size = 0.2)\n",
    "\n",
    "print('Shape of X_train:{}'.format(X_train.shape))\n",
    "print('Shape of y_train:{}'.format(y_train.shape))\n",
    "print('Shape of X_test:{}'.format(X_test.shape))\n",
    "print('Shape of y_test:{}'.format(y_test.shape))"
   ]
  },
  {
   "cell_type": "markdown",
   "metadata": {},
   "source": [
    "# Model Training and prediction"
   ]
  },
  {
   "cell_type": "code",
   "execution_count": 22,
   "metadata": {},
   "outputs": [
    {
     "name": "stdout",
     "output_type": "stream",
     "text": [
      "Training is completed\n",
      "Coefficnet of linear regression:[[9.95630803]]\n",
      "Intercept of linear regression:[0.91889678]\n"
     ]
    }
   ],
   "source": [
    "from sklearn.linear_model import LinearRegression\n",
    "\n",
    "try:\n",
    "    clf = LinearRegression().fit(X_train, y_train)\n",
    "    y_preds = clf.predict(X_test)\n",
    "    coef = [clf.coef_, clf.intercept_]\n",
    "    print('Training is completed')\n",
    "    print('Coefficnet of linear regression:{}'.format(coef[0]))\n",
    "    print('Intercept of linear regression:{}'.format(coef[1]))\n",
    "except:\n",
    "    print('Errror occured in training')"
   ]
  },
  {
   "cell_type": "code",
   "execution_count": 23,
   "metadata": {},
   "outputs": [
    {
     "data": {
      "image/png": "[encoded data removed]",
      "text/plain": [
       "<Figure size 864x864 with 1 Axes>"
      ]
     },
     "metadata": {
      "needs_background": "light"
     },
     "output_type": "display_data"
    }
   ],
   "source": [
    "#visulaization of results\n",
    "\n",
    "plt.figure(figsize = (12,12))\n",
    "y_line = coef[0]*X_train + coef[1]\n",
    "\n",
    "plt.scatter(X_train,y_train, color = 'blue', s = 25)\n",
    "plt.scatter(X_test,y_test, color = 'red', marker = '*', s= 30)\n",
    "plt.scatter(X_test, y_preds, color = 'yellow', marker = 'o',s = 50)\n",
    "plt.plot(X_train,y_line, color = 'black', linewidth = '1')\n",
    "plt.xlabel('Hours')\n",
    "plt.ylabel('Scores')\n",
    "plt.title('True value vs Prediction')\n",
    "plt.legend(['fitted model', 'fitted data', 'test labels', 'prediction labels'])\n",
    "plt.show()"
   ]
  },
  {
   "cell_type": "code",
   "execution_count": 24,
   "metadata": {},
   "outputs": [
    {
     "name": "stdout",
     "output_type": "stream",
     "text": [
      "Root mean squared error: 5.25\n",
      "Mean absolute error: 5.11\n"
     ]
    }
   ],
   "source": [
    "from sklearn.metrics import mean_squared_error, mean_absolute_error\n",
    "import math\n",
    "print('Root mean squared error: {}'.format(round((math.sqrt(mean_squared_error(y_test, y_preds))),2)))\n",
    "print('Mean absolute error: {}'.format(round((mean_absolute_error(y_test, y_preds)), 2)))"
   ]
  },
  {
   "cell_type": "markdown",
   "metadata": {},
   "source": [
    "# Predictions"
   ]
  },
  {
   "cell_type": "code",
   "execution_count": 45,
   "metadata": {},
   "outputs": [],
   "source": [
    "pred_df = y_test.copy()\n",
    "pred_df['Predictions'] = y_preds\n",
    "pred_df.rename(columns = {'Scores': 'Actual'}, inplace = True)\n",
    "pred_df.reset_index(drop = True, inplace =True)"
   ]
  },
  {
   "cell_type": "code",
   "execution_count": 55,
   "metadata": {},
   "outputs": [
    {
     "data": {
      "text/html": [
       "<div>\n",
       "<style scoped>\n",
       "    .dataframe tbody tr th:only-of-type {\n",
       "        vertical-align: middle;\n",
       "    }\n",
       "\n",
       "    .dataframe tbody tr th {\n",
       "        vertical-align: top;\n",
       "    }\n",
       "\n",
       "    .dataframe thead th {\n",
       "        text-align: right;\n",
       "    }\n",
       "</style>\n",
       "<table border=\"1\" class=\"dataframe\">\n",
       "  <thead>\n",
       "    <tr style=\"text-align: right;\">\n",
       "      <th></th>\n",
       "      <th>Actual</th>\n",
       "      <th>Predictions</th>\n",
       "    </tr>\n",
       "  </thead>\n",
       "  <tbody>\n",
       "    <tr>\n",
       "      <th>0</th>\n",
       "      <td>85</td>\n",
       "      <td>77.582469</td>\n",
       "    </tr>\n",
       "    <tr>\n",
       "      <th>1</th>\n",
       "      <td>54</td>\n",
       "      <td>48.709175</td>\n",
       "    </tr>\n",
       "    <tr>\n",
       "      <th>2</th>\n",
       "      <td>20</td>\n",
       "      <td>15.853359</td>\n",
       "    </tr>\n",
       "    <tr>\n",
       "      <th>3</th>\n",
       "      <td>88</td>\n",
       "      <td>92.516931</td>\n",
       "    </tr>\n",
       "    <tr>\n",
       "      <th>4</th>\n",
       "      <td>24</td>\n",
       "      <td>19.835882</td>\n",
       "    </tr>\n",
       "  </tbody>\n",
       "</table>\n",
       "</div>"
      ],
      "text/plain": [
       "   Actual  Predictions\n",
       "0      85    77.582469\n",
       "1      54    48.709175\n",
       "2      20    15.853359\n",
       "3      88    92.516931\n",
       "4      24    19.835882"
      ]
     },
     "execution_count": 55,
     "metadata": {},
     "output_type": "execute_result"
    }
   ],
   "source": [
    "pred_df"
   ]
  },
  {
   "cell_type": "code",
   "execution_count": 58,
   "metadata": {},
   "outputs": [
    {
     "name": "stdout",
     "output_type": "stream",
     "text": [
      "No of Hours = [9.25]\n",
      "Predicted Score = [93.01474604]\n"
     ]
    }
   ],
   "source": [
    "# test of model of specific hours of prepration\n",
    "hr = np.array([9.25])\n",
    "pred = clf.predict(hr.reshape(1,-1))\n",
    "print(\"No of Hours = {}\".format(hr))\n",
    "print(\"Predicted Score = {}\".format(pred[0]))"
   ]
  },
  {
   "cell_type": "code",
   "execution_count": null,
   "metadata": {},
   "outputs": [],
   "source": [
    "\n"
   ]
  },
  {
   "cell_type": "code",
   "execution_count": null,
   "metadata": {},
   "outputs": [],
   "source": []
  },
  {
   "cell_type": "code",
   "execution_count": null,
   "metadata": {},
   "outputs": [],
   "source": []
  },
  {
   "cell_type": "code",
   "execution_count": null,
   "metadata": {},
   "outputs": [],
   "source": []
  }
 ],
 "metadata": {
  "kernelspec": {
   "display_name": "Python 3",
   "language": "python",
   "name": "python3"
  },
  "language_info": {
   "codemirror_mode": {
    "name": "ipython",
    "version": 3
   },
   "file_extension": ".py",
   "mimetype": "text/x-python",
   "name": "python",
   "nbconvert_exporter": "python",
   "pygments_lexer": "ipython3",
   "version": "3.6.10"
  }
 },
 "nbformat": 4,
 "nbformat_minor": 4
}
